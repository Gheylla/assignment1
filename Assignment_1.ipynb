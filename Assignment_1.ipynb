{
 "cells": [
  {
   "cell_type": "code",
   "execution_count": 1,
   "metadata": {},
   "outputs": [],
   "source": [
    "#general import \n",
    "\n",
    "import numpy as np \n",
    "import matplotlib.pyplot as plt\n",
    "import scipy as sp \n",
    "import MyTicToc as mt\n",
    "\n",
    "%matplotlib inline"
   ]
  },
  {
   "cell_type": "code",
   "execution_count": 36,
   "metadata": {},
   "outputs": [
    {
     "data": {
      "text/html": [
       "<div>\n",
       "<style scoped>\n",
       "    .dataframe tbody tr th:only-of-type {\n",
       "        vertical-align: middle;\n",
       "    }\n",
       "\n",
       "    .dataframe tbody tr th {\n",
       "        vertical-align: top;\n",
       "    }\n",
       "\n",
       "    .dataframe thead th {\n",
       "        text-align: right;\n",
       "    }\n",
       "</style>\n",
       "<table border=\"1\" class=\"dataframe\">\n",
       "  <thead>\n",
       "    <tr style=\"text-align: right;\">\n",
       "      <th></th>\n",
       "      <th>datetime</th>\n",
       "      <th>rain_station</th>\n",
       "      <th>pEV</th>\n",
       "      <th>temp</th>\n",
       "    </tr>\n",
       "  </thead>\n",
       "  <tbody>\n",
       "    <tr>\n",
       "      <th>0</th>\n",
       "      <td>2003-01-01</td>\n",
       "      <td>0.0160</td>\n",
       "      <td>0.0000</td>\n",
       "      <td>3.1</td>\n",
       "    </tr>\n",
       "    <tr>\n",
       "      <th>1</th>\n",
       "      <td>2003-01-02</td>\n",
       "      <td>0.0253</td>\n",
       "      <td>0.0000</td>\n",
       "      <td>7.3</td>\n",
       "    </tr>\n",
       "    <tr>\n",
       "      <th>2</th>\n",
       "      <td>2003-01-03</td>\n",
       "      <td>0.0001</td>\n",
       "      <td>0.0001</td>\n",
       "      <td>2.8</td>\n",
       "    </tr>\n",
       "    <tr>\n",
       "      <th>3</th>\n",
       "      <td>2003-01-04</td>\n",
       "      <td>0.0000</td>\n",
       "      <td>0.0002</td>\n",
       "      <td>-2.0</td>\n",
       "    </tr>\n",
       "    <tr>\n",
       "      <th>4</th>\n",
       "      <td>2003-01-05</td>\n",
       "      <td>0.0022</td>\n",
       "      <td>0.0003</td>\n",
       "      <td>-1.3</td>\n",
       "    </tr>\n",
       "    <tr>\n",
       "      <th>...</th>\n",
       "      <td>...</td>\n",
       "      <td>...</td>\n",
       "      <td>...</td>\n",
       "      <td>...</td>\n",
       "    </tr>\n",
       "    <tr>\n",
       "      <th>6205</th>\n",
       "      <td>2019-12-28</td>\n",
       "      <td>0.0000</td>\n",
       "      <td>0.0002</td>\n",
       "      <td>1.4</td>\n",
       "    </tr>\n",
       "    <tr>\n",
       "      <th>6206</th>\n",
       "      <td>2019-12-29</td>\n",
       "      <td>0.0000</td>\n",
       "      <td>0.0002</td>\n",
       "      <td>1.9</td>\n",
       "    </tr>\n",
       "    <tr>\n",
       "      <th>6207</th>\n",
       "      <td>2019-12-30</td>\n",
       "      <td>0.0000</td>\n",
       "      <td>0.0004</td>\n",
       "      <td>5.2</td>\n",
       "    </tr>\n",
       "    <tr>\n",
       "      <th>6208</th>\n",
       "      <td>2019-12-31</td>\n",
       "      <td>0.0000</td>\n",
       "      <td>0.0003</td>\n",
       "      <td>3.4</td>\n",
       "    </tr>\n",
       "    <tr>\n",
       "      <th>6209</th>\n",
       "      <td>2020-01-01</td>\n",
       "      <td>0.0000</td>\n",
       "      <td>0.0001</td>\n",
       "      <td>1.7</td>\n",
       "    </tr>\n",
       "  </tbody>\n",
       "</table>\n",
       "<p>6210 rows × 4 columns</p>\n",
       "</div>"
      ],
      "text/plain": [
       "       datetime  rain_station     pEV  temp\n",
       "0    2003-01-01        0.0160  0.0000   3.1\n",
       "1    2003-01-02        0.0253  0.0000   7.3\n",
       "2    2003-01-03        0.0001  0.0001   2.8\n",
       "3    2003-01-04        0.0000  0.0002  -2.0\n",
       "4    2003-01-05        0.0022  0.0003  -1.3\n",
       "...         ...           ...     ...   ...\n",
       "6205 2019-12-28        0.0000  0.0002   1.4\n",
       "6206 2019-12-29        0.0000  0.0002   1.9\n",
       "6207 2019-12-30        0.0000  0.0004   5.2\n",
       "6208 2019-12-31        0.0000  0.0003   3.4\n",
       "6209 2020-01-01        0.0000  0.0001   1.7\n",
       "\n",
       "[6210 rows x 4 columns]"
      ]
     },
     "metadata": {},
     "output_type": "display_data"
    },
    {
     "data": {
      "image/png": "[encoded data removed]",
      "text/plain": [
       "<Figure size 432x288 with 1 Axes>"
      ]
     },
     "metadata": {
      "needs_background": "light"
     },
     "output_type": "display_data"
    }
   ],
   "source": [
    "import pandas as pd\n",
    "\n",
    "wieringermeer_meteo = pd.read_excel ('WieringermeerData_Meteo.xlsx')\n",
    "wieringermeer_leachate = pd.read_excel('WieringermeerData_LeachateProduction.xlsx')\n",
    "\n",
    "plt.plot(wieringermeer_leachate.Leachate)\n",
    "plt.xlabel(\"days\")\n",
    "plt.ylabel(\"Leachate production in m3/day\")\n",
    "plt.title(\"Leachate Production\")\n",
    "plt.grid()\n",
    "\n",
    "\n",
    "display(wieringermeer_meteo)"
   ]
  },
  {
   "cell_type": "code",
   "execution_count": 2,
   "metadata": {},
   "outputs": [],
   "source": []
  },
  {
   "cell_type": "code",
   "execution_count": 2,
   "metadata": {},
   "outputs": [],
   "source": [
    "#timer function [from lotka volterra example]\n",
    "def tic():\n",
    "    #Homemade version of matlab tic and toc functions\n",
    "    import time\n",
    "    global startTime_for_tictoc\n",
    "    startTime_for_tictoc = time.time()\n",
    "\n",
    "def toc():\n",
    "    import time\n",
    "    if 'startTime_for_tictoc' in globals():\n",
    "        print (\"Elapsed time is \" + str(time.time() - startTime_for_tictoc) + \" seconds.\")\n",
    "    else:\n",
    "        print (\"Toc: start time not set\")"
   ]
  },
  {
   "cell_type": "code",
   "execution_count": 19,
   "metadata": {},
   "outputs": [],
   "source": [
    "# Definition of Rate Equation\n",
    "#equations from the landfilll water balance file \n",
    "#we want to solve the equation for rabbits and foxes. The amount of rabbits and foxes are saved in an array. And the function is defined below. \n",
    "\n",
    "def dYdt(t, Y):\n",
    "    \"\"\" Return the growth rate of fox and rabbit populations. \"\"\"\n",
    "    return np.array([ J - L_cl - E ,\n",
    "                     (1 - beta) * L_cl - L_wd])\n",
    "def L_cl() : \n",
    "    return(a * ((S_cl - S_clmin) / (S_clmax - S_clmin)))\n",
    "\n",
    "def L_wb(): \n",
    "    return (a * ((S_wb - S_wbmin) / (S_wbmax - S_wbmin)) ** b_wb) \n",
    "\n",
    "def E(): \n",
    "    return (pEv * C_f * f_red)\n",
    "\n",
    "def beta(): \n",
    "    return (beta_0 * ((S_cl - S_clmin) / (S_clmax - S_clmin)))"
   ]
  },
  {
   "cell_type": "code",
   "execution_count": 41,
   "metadata": {},
   "outputs": [],
   "source": [
    "#set the parameters\n",
    "\n",
    "J = wieringermeer_meteo.rain_station \n",
    "E = wieringermeer_meteo.pEV"
   ]
  },
  {
   "cell_type": "code",
   "execution_count": null,
   "metadata": {},
   "outputs": [],
   "source": []
  }
 ],
 "metadata": {
  "kernelspec": {
   "display_name": "Python 3",
   "language": "python",
   "name": "python3"
  },
  "language_info": {
   "codemirror_mode": {
    "name": "ipython",
    "version": 3
   },
   "file_extension": ".py",
   "mimetype": "text/x-python",
   "name": "python",
   "nbconvert_exporter": "python",
   "pygments_lexer": "ipython3",
   "version": "3.8.5"
  }
 },
 "nbformat": 4,
 "nbformat_minor": 4
}
